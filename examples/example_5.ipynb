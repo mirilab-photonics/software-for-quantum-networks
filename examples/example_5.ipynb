{
 "cells": [
  {
   "cell_type": "markdown",
   "id": "01bdc5c1-f304-4905-8f1c-c5b0b60a7348",
   "metadata": {},
   "source": [
    "# Unitary Devices Examples\n",
    "\n",
    "1. Two-Port Coupler Coherent States\n",
    "2. Three-Port Coupler with Two Coherent States and One Vaccum State\n",
    "3. Three-Port Jx Coupler with Three Input Photons"
   ]
  },
  {
   "cell_type": "markdown",
   "id": "3f1bf6f4-d46b-42ab-8c1a-184f6a394e92",
   "metadata": {},
   "source": [
    "## 1. Two-Port Coupler with Two Coherent States"
   ]
  },
  {
   "cell_type": "code",
   "execution_count": null,
   "id": "c6d8e2d3-71be-4447-b80c-02f88cdbedd8",
   "metadata": {},
   "outputs": [],
   "source": [
    "# Library imports\n",
    "\n",
    "import numpy as np\n",
    "import uuid\n",
    "from qsi.coordinator import Coordinator\n",
    "from qsi.state import State, StateProp\n",
    "from IPython.display import display"
   ]
  },
  {
   "cell_type": "code",
   "execution_count": null,
   "id": "5eb464ae-0e52-45f1-bfa1-2d0f8ad9d194",
   "metadata": {},
   "outputs": [],
   "source": [
    "# Waveguide coupler properties\n",
    "N_ports   = 2 # Number of waveguides\n",
    "L           = np.pi/4 # meters\n",
    "n = 3.45\n",
    "\n",
    "# Coherent states properties\n",
    "truncation  = 15\n",
    "alpha_1     = 1.0+0j # Coherence parameter - Intensity is proportional to alpha**2\n",
    "alpha_2     = 2.1+0j # Coherence parameter - Intensity is proportional to alpha**2\n",
    "wavelength = 1550.0\n",
    "bandwidth = 10.0\n",
    "polarization = \"H\" # Horizontal or TE"
   ]
  },
  {
   "cell_type": "code",
   "execution_count": null,
   "id": "4879626c-01f7-441d-93ff-aad42d8e5637",
   "metadata": {},
   "outputs": [],
   "source": [
    "# Create coordinator and start the modules:\n",
    "coordinator = Coordinator(port=23456)\n",
    "# Register coherent source module for two photons\n",
    "cs1 = coordinator.register_component(module=\"coherent_source.py\", runtime=\"python\")\n",
    "cs2 = coordinator.register_component(module=\"coherent_source.py\", runtime=\"python\")\n",
    "# Register multiport coupler\n",
    "coupler = coordinator.register_component(module=\"jx_coupler.py\", runtime=\"python\")\n",
    "# Run the coordinator process\n",
    "coordinator.run()"
   ]
  },
  {
   "cell_type": "code",
   "execution_count": null,
   "id": "873c0785-575b-4c34-a411-913dc929ac07",
   "metadata": {},
   "outputs": [],
   "source": [
    "# Configure the module parameters\n",
    "# Set up coherent source 1\n",
    "cs1.set_param(\"alpha\", alpha_1)\n",
    "cs1.send_params()\n",
    "\n",
    "# Set up coherent source 2\n",
    "cs2.set_param(\"alpha\", alpha_2)\n",
    "cs2.send_params()\n",
    "\n",
    "# Set up coupler\n",
    "coupler.set_param(\"n_ports\", N_ports)\n",
    "coupler.set_param(\"length\", L)\n",
    "coupler.set_param(\"n\", n)\n",
    "coupler.send_params()"
   ]
  },
  {
   "cell_type": "code",
   "execution_count": null,
   "id": "1fff2b7f-0d80-4fd9-9ff6-9ca574cf43f9",
   "metadata": {},
   "outputs": [],
   "source": [
    "# Generate the space for coherent states\n",
    "cs1_state_prop = StateProp(\n",
    "    state_type=\"light\",\n",
    "    truncation=truncation,\n",
    "    wavelength=wavelength,\n",
    "    bandwidth=bandwidth,\n",
    "    polarization=polarization,\n",
    ")\n",
    "cs1_state = State(cs1_state_prop)\n",
    "\n",
    "cs2_state_prop = StateProp(\n",
    "    state_type=\"light\",\n",
    "    truncation=truncation,\n",
    "    wavelength=wavelength,\n",
    "    bandwidth=bandwidth,\n",
    "    polarization=polarization,\n",
    ")\n",
    "cs2_state = State(cs2_state_prop)"
   ]
  },
  {
   "cell_type": "code",
   "execution_count": null,
   "id": "b95188e9-2298-4178-bb01-f7e660a9f429",
   "metadata": {},
   "outputs": [],
   "source": [
    "%%capture\n",
    "\n",
    "# Suppress output due to the large truncation term\n",
    "\n",
    "# Get Kraus operators for the generation of the coherent state 1\n",
    "response1, operators1 = cs1.channel_query(\n",
    "    cs1_state, {\"input\": cs1_state_prop.uuid}\n",
    ")\n",
    "\n",
    "# Apply Kraus operators to the state 1\n",
    "cs1_state.apply_kraus_operators(\n",
    "    operators1,\n",
    "    cs1_state.get_all_props(response1[\"kraus_state_indices\"])\n",
    ")"
   ]
  },
  {
   "cell_type": "code",
   "execution_count": null,
   "id": "e17fa867-41d8-4cc9-9a54-b0f0720fad8e",
   "metadata": {},
   "outputs": [],
   "source": [
    "%%capture\n",
    "\n",
    "# Get Kraus operators for the generation of the coherent state 2\n",
    "response2, operators2 = cs2.channel_query(\n",
    "    cs2_state, {\"input\": cs2_state_prop.uuid}\n",
    ")\n",
    "\n",
    "# Apply Kraus operators to the state 2\n",
    "cs2_state.apply_kraus_operators(\n",
    "    operators2,\n",
    "    cs2_state.get_all_props(response2[\"kraus_state_indices\"])\n",
    ")"
   ]
  },
  {
   "cell_type": "code",
   "execution_count": null,
   "id": "4c5a4f67-1740-416f-a657-144f1a0b5911",
   "metadata": {},
   "outputs": [],
   "source": [
    "# Join the states\n",
    "cs1_state.join(cs2_state)\n",
    "\n",
    "# Copy the input state\n",
    "input_state = cs1_state.state.copy()"
   ]
  },
  {
   "cell_type": "code",
   "execution_count": null,
   "id": "a197c576-1711-423d-9e67-ff0c5a45050c",
   "metadata": {},
   "outputs": [],
   "source": [
    "%%capture\n",
    "\n",
    "# Inject photons into 2-port Jx coupler\n",
    "response3, operators3 = coupler.channel_query(\n",
    "    cs1_state, {\"input\": [cs1_state_prop.uuid, cs2_state_prop.uuid]}\n",
    ")\n",
    "\n",
    "# Apply kraus operators\n",
    "cs1_state.apply_kraus_operators(\n",
    "    operators3,\n",
    "    cs1_state.get_all_props(response3[\"kraus_state_indices\"])\n",
    ")"
   ]
  },
  {
   "cell_type": "code",
   "execution_count": null,
   "id": "ad8cc972-c2e1-4e04-9347-6cea8d057cb5",
   "metadata": {},
   "outputs": [],
   "source": [
    "# Terminate the coordinator process\n",
    "coordinator.terminate()"
   ]
  },
  {
   "cell_type": "markdown",
   "id": "e182cc06-8bd9-48ea-9bf5-c8a15b7298b3",
   "metadata": {},
   "source": [
    "## 2. Three-Port Coupler with Two Coherent States and One Vacuum State"
   ]
  },
  {
   "cell_type": "code",
   "execution_count": null,
   "id": "cedd93b5-5ef8-4335-8a60-b331bdec8177",
   "metadata": {},
   "outputs": [],
   "source": [
    "# Library imports\n",
    "\n",
    "import numpy as np\n",
    "import uuid\n",
    "from qsi.coordinator import Coordinator\n",
    "from qsi.state import State, StateProp\n",
    "from IPython.display import display"
   ]
  },
  {
   "cell_type": "code",
   "execution_count": null,
   "id": "05069a0f-5847-4a4f-b177-ea598f1b20a2",
   "metadata": {},
   "outputs": [],
   "source": [
    "# Waveguide coupler properties\n",
    "N_ports   = 3 # Number of waveguides\n",
    "L           = np.pi/4 # meters\n",
    "n = 3.45\n",
    "\n",
    "# Photon states properties\n",
    "alpha_1     = 1.0+0j # Coherence parameter - Intensity is proportional to alpha**2\n",
    "alpha_2     = 2.5+0j # Coherence parameter - Intensity is proportional to alpha**2\n",
    "truncation  = 5\n",
    "wavelength = 1550.0\n",
    "bandwidth = 10.0\n",
    "polarization = \"H\" # Horizontal or TE"
   ]
  },
  {
   "cell_type": "code",
   "execution_count": null,
   "id": "bfe5520e-5674-4a10-94fa-a835c68b5c42",
   "metadata": {},
   "outputs": [],
   "source": [
    "# Create coordinator and start the modules:\n",
    "coordinator = Coordinator(port=23457)\n",
    "# Register module for photon states for each input channel\n",
    "cs1 = coordinator.register_component(module=\"coherent_source.py\", runtime=\"python\")\n",
    "cs2 = coordinator.register_component(module=\"coherent_source.py\", runtime=\"python\")\n",
    "ps1 = coordinator.register_component(module=\"multi_photon_source.py\", runtime=\"python\")\n",
    "# Register multiport coupler\n",
    "coupler = coordinator.register_component(module=\"jx_coupler.py\", runtime=\"python\")\n",
    "# Run the coordinator process\n",
    "coordinator.run()"
   ]
  },
  {
   "cell_type": "code",
   "execution_count": null,
   "id": "5bfe018a-a0bf-40b5-8303-6c850df039b2",
   "metadata": {},
   "outputs": [],
   "source": [
    "# Configure the module parameters\n",
    "\n",
    "# Set up coherent source 1\n",
    "cs1.set_param(\"alpha\", alpha_1)\n",
    "cs1.send_params()\n",
    "\n",
    "# Set up coherent source 2\n",
    "cs2.set_param(\"alpha\", alpha_2)\n",
    "cs2.send_params()\n",
    "\n",
    "# Set up vacuum state\n",
    "ps1.set_param(\"n_photons\", 0)\n",
    "ps1.send_params()\n",
    "\n",
    "# Set up coupler\n",
    "coupler.set_param(\"n_ports\", N_ports)\n",
    "coupler.set_param(\"length\", L)\n",
    "coupler.set_param(\"n\", n)\n",
    "coupler.send_params()"
   ]
  },
  {
   "cell_type": "code",
   "execution_count": null,
   "id": "0ec27f96-a78e-4a35-b74c-49d18457fcd2",
   "metadata": {},
   "outputs": [],
   "source": [
    "# Generate the space for coherent states\n",
    "cs1_state_prop = StateProp(\n",
    "    state_type=\"light\",\n",
    "    truncation=truncation,\n",
    "    wavelength=wavelength,\n",
    "    bandwidth=bandwidth,\n",
    "    polarization=polarization,\n",
    ")\n",
    "cs1_state = State(cs1_state_prop)\n",
    "\n",
    "cs2_state_prop = StateProp(\n",
    "    state_type=\"light\",\n",
    "    truncation=truncation,\n",
    "    wavelength=wavelength,\n",
    "    bandwidth=bandwidth,\n",
    "    polarization=polarization,\n",
    ")\n",
    "cs2_state = State(cs2_state_prop)\n",
    "\n",
    "# Generate the space for the vacuum state\n",
    "ps1_state_prop = StateProp(\n",
    "    state_type=\"light\",\n",
    "    truncation=truncation,\n",
    "    wavelength=wavelength,\n",
    "    bandwidth=bandwidth,\n",
    "    polarization=polarization,\n",
    ")\n",
    "ps1_state = State(ps1_state_prop)"
   ]
  },
  {
   "cell_type": "code",
   "execution_count": null,
   "id": "de4de238-1814-4c7c-a052-f808000320ee",
   "metadata": {},
   "outputs": [],
   "source": [
    "%%capture\n",
    "\n",
    "# Suppress output due to the large truncation term\n",
    "\n",
    "# Get Kraus operators for the generation of the coherent state 1\n",
    "response1, operators1 = cs1.channel_query(\n",
    "    cs1_state, {\"input\": cs1_state_prop.uuid}\n",
    ")\n",
    "\n",
    "# Apply Kraus operators to the state 1\n",
    "cs1_state.apply_kraus_operators(\n",
    "    operators1,\n",
    "    cs1_state.get_all_props(response1[\"kraus_state_indices\"])\n",
    ")\n",
    "\n",
    "# Get Kraus operators for the generation of the coherent state 2\n",
    "response2, operators2 = cs2.channel_query(\n",
    "    cs2_state, {\"input\": cs2_state_prop.uuid}\n",
    ")\n",
    "\n",
    "# Apply Kraus operators to the state 2\n",
    "cs2_state.apply_kraus_operators(\n",
    "    operators2,\n",
    "    cs2_state.get_all_props(response2[\"kraus_state_indices\"])\n",
    ")\n",
    "\n",
    "# Get Kraus operators for the generation of the photon state 1\n",
    "response3, operators3 = ps1.channel_query(\n",
    "    ps1_state, {\"input\": ps1_state_prop.uuid}\n",
    ")\n",
    "\n",
    "# Apply Kraus operators to the photon state 3\n",
    "ps1_state.apply_kraus_operators(\n",
    "    operators3,\n",
    "    ps1_state.get_all_props(response3[\"kraus_state_indices\"])\n",
    ")"
   ]
  },
  {
   "cell_type": "code",
   "execution_count": null,
   "id": "97fe2da7-19d7-4a19-b683-096ab87b127c",
   "metadata": {},
   "outputs": [],
   "source": [
    "# DEBUG\n",
    "cs1_state_copy = cs1_state.state.copy()\n",
    "\n",
    "# Join the states\n",
    "cs1_state.join(cs2_state)\n",
    "cs1_state.join(ps1_state)\n",
    "\n",
    "# Copy the input state\n",
    "input_state = cs1_state.state.copy()"
   ]
  },
  {
   "cell_type": "code",
   "execution_count": null,
   "id": "193203e6-3599-4895-8382-392961b61e87",
   "metadata": {},
   "outputs": [],
   "source": [
    "%%capture\n",
    "\n",
    "# Inject states into 3-port Jx coupler\n",
    "response4, operators4 = coupler.channel_query(\n",
    "    cs1_state, {\"input\": [cs1_state_prop.uuid, cs2_state_prop.uuid, ps1_state_prop.uuid]}\n",
    ")\n",
    "\n",
    "# Apply kraus operators\n",
    "cs1_state.apply_kraus_operators(\n",
    "    operators4,\n",
    "    cs1_state.get_all_props(response4[\"kraus_state_indices\"])\n",
    ")"
   ]
  },
  {
   "cell_type": "code",
   "execution_count": null,
   "id": "ae165817-4cb3-4b44-ba57-83a959342be1",
   "metadata": {},
   "outputs": [],
   "source": [
    "# Terminate the coordinator process\n",
    "coordinator.terminate()"
   ]
  },
  {
   "cell_type": "markdown",
   "id": "672ec7bb-369e-4c12-aea2-c2cba58c5ca6",
   "metadata": {},
   "source": [
    "## 3. Three-Port Jx Coupler with Three Input Photons\n",
    "\n",
    "Input state:\n",
    "- 0 photons (vacuum state) in port 1\n",
    "- 1 photon in port 2\n",
    "- 2 photons in port 3"
   ]
  },
  {
   "cell_type": "code",
   "execution_count": null,
   "id": "f0fb8dda-9a34-4b18-91f6-47f9c5a4fcba",
   "metadata": {},
   "outputs": [],
   "source": [
    "# Library imports\n",
    "\n",
    "import numpy as np\n",
    "import uuid\n",
    "from qsi.coordinator import Coordinator\n",
    "from qsi.state import State, StateProp\n",
    "from IPython.display import display"
   ]
  },
  {
   "cell_type": "code",
   "execution_count": null,
   "id": "a60205e2-6b7f-4159-8d1d-16b921347642",
   "metadata": {},
   "outputs": [],
   "source": [
    "# Waveguide coupler properties\n",
    "N_ports   = 3 # Number of waveguides\n",
    "L           = np.pi/4 # meters\n",
    "n = 3.45\n",
    "\n",
    "# Photon states properties\n",
    "N_list = [0, 1, 2]\n",
    "truncation  = 5\n",
    "wavelength = 1550.0\n",
    "bandwidth = 10.0\n",
    "polarization = \"H\" # Horizontal or TE\n",
    "\n",
    "# Ensure the array size matches the number of ports\n",
    "assert(len(N_list) == N_ports)"
   ]
  },
  {
   "cell_type": "code",
   "execution_count": null,
   "id": "7121ac25-62a4-4b97-945b-58b97c9af14d",
   "metadata": {},
   "outputs": [],
   "source": [
    "# Create coordinator and start the modules:\n",
    "coordinator = Coordinator(port=23458)\n",
    "# Register module for photon states for each input channel\n",
    "ps1 = coordinator.register_component(module=\"multi_photon_source.py\", runtime=\"python\")\n",
    "ps2 = coordinator.register_component(module=\"multi_photon_source.py\", runtime=\"python\")\n",
    "ps3 = coordinator.register_component(module=\"multi_photon_source.py\", runtime=\"python\")\n",
    "# Register multiport coupler\n",
    "coupler = coordinator.register_component(module=\"jx_coupler.py\", runtime=\"python\")\n",
    "# Run the coordinator process\n",
    "coordinator.run()"
   ]
  },
  {
   "cell_type": "code",
   "execution_count": null,
   "id": "b712606b-89bc-4d82-b12e-f73243bb71dc",
   "metadata": {},
   "outputs": [],
   "source": [
    "# Configure the module parameters\n",
    "# Set up photon states\n",
    "ps1.set_param(\"n_photons\", N_list[0])\n",
    "ps1.send_params()\n",
    "\n",
    "ps2.set_param(\"n_photons\", N_list[1])\n",
    "ps2.send_params()\n",
    "\n",
    "ps3.set_param(\"n_photons\", N_list[2])\n",
    "ps3.send_params()\n",
    "\n",
    "# Set up coupler\n",
    "coupler.set_param(\"n_ports\", N_ports)\n",
    "coupler.set_param(\"length\", L)\n",
    "coupler.set_param(\"n\", n)\n",
    "coupler.send_params()"
   ]
  },
  {
   "cell_type": "code",
   "execution_count": null,
   "id": "980ea2f1-b10a-48ee-859a-3a1c14156e0a",
   "metadata": {},
   "outputs": [],
   "source": [
    "# Generate the space for photons states\n",
    "ps1_state_prop = StateProp(\n",
    "    state_type=\"light\",\n",
    "    truncation=truncation,\n",
    "    wavelength=wavelength,\n",
    "    bandwidth=bandwidth,\n",
    "    polarization=polarization,\n",
    ")\n",
    "ps1_state = State(ps1_state_prop)\n",
    "\n",
    "ps2_state_prop = StateProp(\n",
    "    state_type=\"light\",\n",
    "    truncation=truncation,\n",
    "    wavelength=wavelength,\n",
    "    bandwidth=bandwidth,\n",
    "    polarization=polarization,\n",
    ")\n",
    "ps2_state = State(ps2_state_prop)\n",
    "\n",
    "ps3_state_prop = StateProp(\n",
    "    state_type=\"light\",\n",
    "    truncation=truncation,\n",
    "    wavelength=wavelength,\n",
    "    bandwidth=bandwidth,\n",
    "    polarization=polarization,\n",
    ")\n",
    "ps3_state = State(ps3_state_prop)"
   ]
  },
  {
   "cell_type": "code",
   "execution_count": null,
   "id": "df1409c6-5edf-4236-ab18-3e64c91b2172",
   "metadata": {},
   "outputs": [],
   "source": [
    "%%capture\n",
    "\n",
    "# Suppress output due to the large truncation term\n",
    "\n",
    "# Get Kraus operators for the generation of the photon state 1\n",
    "response1, operators1 = ps1.channel_query(\n",
    "    ps1_state, {\"input\": ps1_state_prop.uuid}\n",
    ")\n",
    "\n",
    "# Apply Kraus operators to the photon state 1\n",
    "ps1_state.apply_kraus_operators(\n",
    "    operators1,\n",
    "    ps1_state.get_all_props(response1[\"kraus_state_indices\"])\n",
    ")\n",
    "\n",
    "# Get Kraus operators for the generation of the photon state 1\n",
    "response2, operators2 = ps2.channel_query(\n",
    "    ps2_state, {\"input\": ps2_state_prop.uuid}\n",
    ")\n",
    "\n",
    "# Apply Kraus operators to the photon state 2\n",
    "ps2_state.apply_kraus_operators(\n",
    "    operators2,\n",
    "    ps2_state.get_all_props(response2[\"kraus_state_indices\"])\n",
    ")\n",
    "\n",
    "# Get Kraus operators for the generation of the photon state 3\n",
    "response3, operators3 = ps3.channel_query(\n",
    "    ps3_state, {\"input\": ps3_state_prop.uuid}\n",
    ")\n",
    "\n",
    "# Apply Kraus operators to the photon state 3\n",
    "ps3_state.apply_kraus_operators(\n",
    "    operators3,\n",
    "    ps3_state.get_all_props(response3[\"kraus_state_indices\"])\n",
    ")"
   ]
  },
  {
   "cell_type": "code",
   "execution_count": null,
   "id": "e7654657-0c50-4fee-8dca-40b33f6f3d76",
   "metadata": {},
   "outputs": [],
   "source": [
    "# Join the states\n",
    "ps1_state.join(ps2_state)\n",
    "ps1_state.join(ps3_state)\n",
    "\n",
    "# Copy the input state\n",
    "input_state = ps1_state.state.copy()"
   ]
  },
  {
   "cell_type": "code",
   "execution_count": null,
   "id": "777429ff-3957-40ba-afeb-960e1b5d59d9",
   "metadata": {},
   "outputs": [],
   "source": [
    "%%capture\n",
    "\n",
    "# Inject photons into 3-port Jx coupler\n",
    "response4, operators4 = coupler.channel_query(\n",
    "    ps1_state, {\"input\": [ps1_state_prop.uuid, ps2_state_prop.uuid, ps3_state_prop.uuid]}\n",
    ")\n",
    "\n",
    "# Apply kraus operators\n",
    "ps1_state.apply_kraus_operators(\n",
    "    operators4,\n",
    "    ps1_state.get_all_props(response4[\"kraus_state_indices\"])\n",
    ")"
   ]
  },
  {
   "cell_type": "code",
   "execution_count": null,
   "id": "fd0e5469-d0e7-47ae-9ffa-1d7bbe94b3c4",
   "metadata": {},
   "outputs": [],
   "source": [
    "# Terminate the coordinator process\n",
    "coordinator.terminate()"
   ]
  }
 ],
 "metadata": {
  "kernelspec": {
   "display_name": "Python 3 (ipykernel)",
   "language": "python",
   "name": "python3"
  },
  "language_info": {
   "codemirror_mode": {
    "name": "ipython",
    "version": 3
   },
   "file_extension": ".py",
   "mimetype": "text/x-python",
   "name": "python",
   "nbconvert_exporter": "python",
   "pygments_lexer": "ipython3",
   "version": "3.13.7"
  }
 },
 "nbformat": 4,
 "nbformat_minor": 5
}
